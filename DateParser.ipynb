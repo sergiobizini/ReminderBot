{
 "cells": [
  {
   "cell_type": "code",
   "execution_count": 144,
   "metadata": {},
   "outputs": [
    {
     "name": "stdout",
     "output_type": "stream",
     "text": [
      "(datetime.datetime(2019, 3, 27, 18, 30), 'помой посуду')\n"
     ]
    }
   ],
   "source": [
    "import time\n",
    "import telebot\n",
    "import sched\n",
    "import datetime\n",
    "import dateparser\n",
    "from dateparser.search import search_dates\n",
    "\n",
    "# with open('apikey.txt', 'r') as f:\n",
    "#     apikey = f.readline()\n",
    "\n",
    "# bot = telebot.TeleBot(apikey)\n",
    "# s = sched.scheduler(time.time, time.sleep)\n",
    "\n",
    "# def send_notification(bot, id, notification_text):\n",
    "#     bot.send_message(id, notification_text)\n",
    "    \n",
    "# def dummy_time():\n",
    "#     dt = datetime.datetime.now()\n",
    "#     td = datetime.timedelta(seconds=5)\n",
    "#     dt += td\n",
    "#     return dt   \n",
    "\n",
    "# # not operational so far\n",
    "# # def rel_sched():\n",
    "# #     s.enter(int(message.text), 1, send_notification, argument=(bot, message.from_user.id, \"Няyz\"))\n",
    "# #     s.run()\n",
    "\n",
    "# #only works for a non-recurring reminder \n",
    "# def abs_sched(dtime, bot, user_id, notification_text):\n",
    "#     s.enterabs(dtime.timestamp(), 1, send_notification, argument=(bot, user_id, notification_text))\n",
    "#     s.run()\n",
    "\n",
    "\n",
    "# @bot.message_handler(content_types=['text'])\n",
    "# def get_text_messages(message):\n",
    "# #     print(str(time.clock()) + str(message.text))\n",
    "#     in_text = message.text\n",
    "#     print(in_text + str(message.from_user.id))\n",
    "#     scheduling_time = dateparser.parse(' '.join(in_text.split()[0:2]))\n",
    "#     notification_text = ' '.join(in_text.split()[2:])\n",
    "#     bot.send_message(message.from_user.id, \"Напишу тебе в \" + str(scheduling_time))\n",
    "#     abs_sched(scheduling_time, bot, message.from_user.id, notification_text)\n",
    "    \n",
    "# bot.polling(none_stop=True, interval=1)\n",
    "\n",
    "\n",
    "in_text = \"18:30 завтра помой посуду\"\n",
    "# something is wrong with word do!!\n",
    "\n",
    "def ParseTime(in_text):\n",
    "    parsed_time=None\n",
    "    text=None\n",
    "    start_time = len(in_text.split()) if len(in_text.split()) <5 else 0\n",
    "    for i in range(start_time):\n",
    "        if dateparser.parse(' '.join(in_text.split()[0:i])):\n",
    "            parsed_time = dateparser.parse(' '.join(in_text.split()[0:i]))\n",
    "            text = ' '.join(in_text.split()[i:])\n",
    "    if not parsed_time and not text:\n",
    "        dates = search_dates(in_text) \n",
    "        if len(dates)==1:\n",
    "            parsed_time=dates[0][0]\n",
    "            text=in_text.replace(dates[0][0],'')\n",
    "        else: \n",
    "            #State-of-the-art AI that asks user which date to choose \n",
    "            print(\"More than 1 date\")\n",
    "            print(dates)\n",
    "            for i in dates:\n",
    "                continue\n",
    "    return parsed_time,text\n",
    "print(ParseTime(in_text))\n"
   ]
  }
 ],
 "metadata": {
  "kernelspec": {
   "display_name": "Python 3",
   "language": "python",
   "name": "python3"
  },
  "language_info": {
   "codemirror_mode": {
    "name": "ipython",
    "version": 3
   },
   "file_extension": ".py",
   "mimetype": "text/x-python",
   "name": "python",
   "nbconvert_exporter": "python",
   "pygments_lexer": "ipython3",
   "version": "3.6.3"
  }
 },
 "nbformat": 4,
 "nbformat_minor": 2
}
